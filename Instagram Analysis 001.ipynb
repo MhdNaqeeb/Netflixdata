{
 "cells": [
  {
   "cell_type": "code",
   "execution_count": 2,
   "id": "53b78e44",
   "metadata": {},
   "outputs": [],
   "source": [
    "import pandas as pd\n",
    "import numpy as np\n",
    "from sklearn.feature_extraction import text\n",
    "from sklearn.metrics.pairwise import cosine_similarity"
   ]
  },
  {
   "cell_type": "code",
   "execution_count": 5,
   "id": "2735d31e",
   "metadata": {},
   "outputs": [],
   "source": [
    "data = pd.read_csv(r\"C:\\Users\\HP\\Downloads\\Instagram data.csv\")"
   ]
  },
  {
   "cell_type": "code",
   "execution_count": 6,
   "id": "e4a117ae",
   "metadata": {},
   "outputs": [
    {
     "data": {
      "text/html": [
       "<div>\n",
       "<style scoped>\n",
       "    .dataframe tbody tr th:only-of-type {\n",
       "        vertical-align: middle;\n",
       "    }\n",
       "\n",
       "    .dataframe tbody tr th {\n",
       "        vertical-align: top;\n",
       "    }\n",
       "\n",
       "    .dataframe thead th {\n",
       "        text-align: right;\n",
       "    }\n",
       "</style>\n",
       "<table border=\"1\" class=\"dataframe\">\n",
       "  <thead>\n",
       "    <tr style=\"text-align: right;\">\n",
       "      <th></th>\n",
       "      <th>Date</th>\n",
       "      <th>Impressions</th>\n",
       "      <th>From Home</th>\n",
       "      <th>From Hashtags</th>\n",
       "      <th>From Explore</th>\n",
       "      <th>From Other</th>\n",
       "      <th>Saves</th>\n",
       "      <th>Comments</th>\n",
       "      <th>Shares</th>\n",
       "      <th>Likes</th>\n",
       "      <th>Profile Visits</th>\n",
       "      <th>Follows</th>\n",
       "      <th>Conversion Rate</th>\n",
       "      <th>Caption</th>\n",
       "      <th>Hashtags</th>\n",
       "    </tr>\n",
       "  </thead>\n",
       "  <tbody>\n",
       "    <tr>\n",
       "      <th>0</th>\n",
       "      <td>2021-12-10</td>\n",
       "      <td>3920</td>\n",
       "      <td>2586</td>\n",
       "      <td>1028</td>\n",
       "      <td>619</td>\n",
       "      <td>56</td>\n",
       "      <td>98</td>\n",
       "      <td>9</td>\n",
       "      <td>5</td>\n",
       "      <td>162</td>\n",
       "      <td>35</td>\n",
       "      <td>2</td>\n",
       "      <td>5.714286</td>\n",
       "      <td>Here are some of the most important data visua...</td>\n",
       "      <td>#finance #money #business #investing #investme...</td>\n",
       "    </tr>\n",
       "    <tr>\n",
       "      <th>1</th>\n",
       "      <td>2021-12-11</td>\n",
       "      <td>5394</td>\n",
       "      <td>2727</td>\n",
       "      <td>1838</td>\n",
       "      <td>1174</td>\n",
       "      <td>78</td>\n",
       "      <td>194</td>\n",
       "      <td>7</td>\n",
       "      <td>14</td>\n",
       "      <td>224</td>\n",
       "      <td>48</td>\n",
       "      <td>10</td>\n",
       "      <td>20.833333</td>\n",
       "      <td>Here are some of the best data science project...</td>\n",
       "      <td>#healthcare #health #covid #data #datascience ...</td>\n",
       "    </tr>\n",
       "    <tr>\n",
       "      <th>2</th>\n",
       "      <td>2021-12-12</td>\n",
       "      <td>4021</td>\n",
       "      <td>2085</td>\n",
       "      <td>1188</td>\n",
       "      <td>0</td>\n",
       "      <td>533</td>\n",
       "      <td>41</td>\n",
       "      <td>11</td>\n",
       "      <td>1</td>\n",
       "      <td>131</td>\n",
       "      <td>62</td>\n",
       "      <td>12</td>\n",
       "      <td>19.354839</td>\n",
       "      <td>Learn how to train a machine learning model an...</td>\n",
       "      <td>#data #datascience #dataanalysis #dataanalytic...</td>\n",
       "    </tr>\n",
       "    <tr>\n",
       "      <th>3</th>\n",
       "      <td>2021-12-13</td>\n",
       "      <td>4528</td>\n",
       "      <td>2700</td>\n",
       "      <td>621</td>\n",
       "      <td>932</td>\n",
       "      <td>73</td>\n",
       "      <td>172</td>\n",
       "      <td>10</td>\n",
       "      <td>7</td>\n",
       "      <td>213</td>\n",
       "      <td>23</td>\n",
       "      <td>8</td>\n",
       "      <td>34.782609</td>\n",
       "      <td>Here’s how you can write a Python program to d...</td>\n",
       "      <td>#python #pythonprogramming #pythonprojects #py...</td>\n",
       "    </tr>\n",
       "    <tr>\n",
       "      <th>4</th>\n",
       "      <td>2021-12-14</td>\n",
       "      <td>2518</td>\n",
       "      <td>1704</td>\n",
       "      <td>255</td>\n",
       "      <td>279</td>\n",
       "      <td>37</td>\n",
       "      <td>96</td>\n",
       "      <td>5</td>\n",
       "      <td>4</td>\n",
       "      <td>123</td>\n",
       "      <td>8</td>\n",
       "      <td>0</td>\n",
       "      <td>0.000000</td>\n",
       "      <td>Plotting annotations while visualizing your da...</td>\n",
       "      <td>#datavisualization #datascience #data #dataana...</td>\n",
       "    </tr>\n",
       "  </tbody>\n",
       "</table>\n",
       "</div>"
      ],
      "text/plain": [
       "         Date  Impressions  From Home  From Hashtags  From Explore  \\\n",
       "0  2021-12-10         3920       2586           1028           619   \n",
       "1  2021-12-11         5394       2727           1838          1174   \n",
       "2  2021-12-12         4021       2085           1188             0   \n",
       "3  2021-12-13         4528       2700            621           932   \n",
       "4  2021-12-14         2518       1704            255           279   \n",
       "\n",
       "   From Other  Saves  Comments  Shares  Likes  Profile Visits  Follows  \\\n",
       "0          56     98         9       5    162              35        2   \n",
       "1          78    194         7      14    224              48       10   \n",
       "2         533     41        11       1    131              62       12   \n",
       "3          73    172        10       7    213              23        8   \n",
       "4          37     96         5       4    123               8        0   \n",
       "\n",
       "   Conversion Rate                                            Caption  \\\n",
       "0         5.714286  Here are some of the most important data visua...   \n",
       "1        20.833333  Here are some of the best data science project...   \n",
       "2        19.354839  Learn how to train a machine learning model an...   \n",
       "3        34.782609  Here’s how you can write a Python program to d...   \n",
       "4         0.000000  Plotting annotations while visualizing your da...   \n",
       "\n",
       "                                            Hashtags  \n",
       "0  #finance #money #business #investing #investme...  \n",
       "1  #healthcare #health #covid #data #datascience ...  \n",
       "2  #data #datascience #dataanalysis #dataanalytic...  \n",
       "3  #python #pythonprogramming #pythonprojects #py...  \n",
       "4  #datavisualization #datascience #data #dataana...  "
      ]
     },
     "execution_count": 6,
     "metadata": {},
     "output_type": "execute_result"
    }
   ],
   "source": [
    "data.head()"
   ]
  },
  {
   "cell_type": "code",
   "execution_count": 7,
   "id": "32532015",
   "metadata": {},
   "outputs": [],
   "source": [
    "data = data[[\"Caption\", \"Hashtags\"]]"
   ]
  },
  {
   "cell_type": "code",
   "execution_count": 8,
   "id": "a5d22b8f",
   "metadata": {},
   "outputs": [
    {
     "name": "stdout",
     "output_type": "stream",
     "text": [
      "                                             Caption  \\\n",
      "0  Here are some of the most important data visua...   \n",
      "1  Here are some of the best data science project...   \n",
      "2  Learn how to train a machine learning model an...   \n",
      "3  Here’s how you can write a Python program to d...   \n",
      "4  Plotting annotations while visualizing your da...   \n",
      "\n",
      "                                            Hashtags  \n",
      "0  #finance #money #business #investing #investme...  \n",
      "1  #healthcare #health #covid #data #datascience ...  \n",
      "2  #data #datascience #dataanalysis #dataanalytic...  \n",
      "3  #python #pythonprogramming #pythonprojects #py...  \n",
      "4  #datavisualization #datascience #data #dataana...  \n"
     ]
    }
   ],
   "source": [
    "print(data.head())"
   ]
  },
  {
   "cell_type": "code",
   "execution_count": 11,
   "id": "e65ad35a",
   "metadata": {},
   "outputs": [],
   "source": [
    "captions = data[\"Caption\"].tolist()"
   ]
  },
  {
   "cell_type": "code",
   "execution_count": 12,
   "id": "ed7d1c3a",
   "metadata": {},
   "outputs": [],
   "source": [
    "uni_tfidf = text.TfidfVectorizer(input=captions, stop_words=\"english\")"
   ]
  },
  {
   "cell_type": "code",
   "execution_count": 13,
   "id": "45aca382",
   "metadata": {},
   "outputs": [],
   "source": [
    "uni_matrix = uni_tfidf.fit_transform(captions)"
   ]
  },
  {
   "cell_type": "code",
   "execution_count": 14,
   "id": "b1d7145f",
   "metadata": {},
   "outputs": [],
   "source": [
    "uni_sim = cosine_similarity(uni_matrix)"
   ]
  },
  {
   "cell_type": "code",
   "execution_count": 15,
   "id": "829ce6c0",
   "metadata": {},
   "outputs": [],
   "source": [
    "def recommend_post(x):\n",
    "  return \", \".join(data[\"Caption\"].loc[x.argsort()[-5:-1]])"
   ]
  },
  {
   "cell_type": "code",
   "execution_count": 16,
   "id": "b941ce15",
   "metadata": {},
   "outputs": [],
   "source": [
    "data[\"Recommended Post\"] = [recommend_post(x) for x in uni_sim]"
   ]
  },
  {
   "cell_type": "code",
   "execution_count": 17,
   "id": "09c014b1",
   "metadata": {},
   "outputs": [
    {
     "name": "stdout",
     "output_type": "stream",
     "text": [
      "                                             Caption  \\\n",
      "0  Here are some of the most important data visua...   \n",
      "1  Here are some of the best data science project...   \n",
      "2  Learn how to train a machine learning model an...   \n",
      "3  Here’s how you can write a Python program to d...   \n",
      "4  Plotting annotations while visualizing your da...   \n",
      "\n",
      "                                            Hashtags  \\\n",
      "0  #finance #money #business #investing #investme...   \n",
      "1  #healthcare #health #covid #data #datascience ...   \n",
      "2  #data #datascience #dataanalysis #dataanalytic...   \n",
      "3  #python #pythonprogramming #pythonprojects #py...   \n",
      "4  #datavisualization #datascience #data #dataana...   \n",
      "\n",
      "                                    Recommended Post  \n",
      "0  Here are some of the most important tools that...  \n",
      "1  Here are some of the best data science project...  \n",
      "2  Data Science Use Cases: Here’s how Zomato is u...  \n",
      "3  Here’s how to write a Python function to rever...  \n",
      "4  Practice these 90+ Data Science Projects For B...  \n"
     ]
    }
   ],
   "source": [
    "print(data.head())"
   ]
  },
  {
   "cell_type": "code",
   "execution_count": 18,
   "id": "bd342917",
   "metadata": {},
   "outputs": [
    {
     "name": "stdout",
     "output_type": "stream",
     "text": [
      "Here’s how to write a Python function to reverse a string., To calculate the execution time of the program, we need to calculate the time taken by the program from its initiation to the final result. Here’s how to calculate the execution time of a Python program., Here’s how to calculate execution time of a Python program., Grouping anagrams is one of the popular questions in coding interviews. Here you will be given a list of words, and you have to write an algorithm to group all the words which are anagrams of each other. Here's how to group anagrams using Python.\n"
     ]
    }
   ],
   "source": [
    "print(data[\"Recommended Post\"][3])"
   ]
  },
  {
   "cell_type": "code",
   "execution_count": null,
   "id": "9a76ff00",
   "metadata": {},
   "outputs": [],
   "source": []
  }
 ],
 "metadata": {
  "kernelspec": {
   "display_name": "Python 3 (ipykernel)",
   "language": "python",
   "name": "python3"
  },
  "language_info": {
   "codemirror_mode": {
    "name": "ipython",
    "version": 3
   },
   "file_extension": ".py",
   "mimetype": "text/x-python",
   "name": "python",
   "nbconvert_exporter": "python",
   "pygments_lexer": "ipython3",
   "version": "3.10.8"
  }
 },
 "nbformat": 4,
 "nbformat_minor": 5
}
